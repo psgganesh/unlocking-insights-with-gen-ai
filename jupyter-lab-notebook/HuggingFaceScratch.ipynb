{
 "cells": [
  {
   "cell_type": "markdown",
   "id": "e54b5847",
   "metadata": {},
   "source": [
    "##  Using HuggingFace models on AWS Sagemaker for `text-to-sql` operations"
   ]
  },
  {
   "cell_type": "markdown",
   "id": "042d48a7",
   "metadata": {},
   "source": [
    "### Environment setup (using conda)"
   ]
  },
  {
   "cell_type": "markdown",
   "id": "fa4fa535",
   "metadata": {},
   "source": [
    "Using Conda facilitates dependency management by creating isolated environments. Each environment can have distinct packages, preventing version conflicts. \n",
    "\n",
    "Once a you open a new terminal, the base environment of this notebook can be activated and pip can be used within it, combining pip's extensive package availability with Conda's isolation benefits. \n",
    "\n",
    "This approach ensures both flexibility and stability in projects, promoting consistent code execution across different setups."
   ]
  },
  {
   "cell_type": "markdown",
   "id": "e668cb4a",
   "metadata": {},
   "source": [
    "### Opening the Notebook Terminal\n",
    "\n",
    "On the top pane of this notebook, you should see an icon that looks like a terminal (a square with an underscore).\n",
    "Click on this icon. A new terminal tab will be opened."
   ]
  },
  {
   "cell_type": "markdown",
   "id": "304874b5-bdcc-45f9-9452-0853cc1ab9d2",
   "metadata": {},
   "source": [
    "List the conda environments by running the following on the terminal window [ NOT ON THIS NOTEBOOK ]"
   ]
  },
  {
   "cell_type": "markdown",
   "id": "b13c5d98-cbdd-4345-9f9d-5fb5162e5e09",
   "metadata": {},
   "source": [
    "> conda env list"
   ]
  },
  {
   "cell_type": "markdown",
   "id": "75edd76f",
   "metadata": {},
   "source": [
    "### Activate a conda environment"
   ]
  },
  {
   "cell_type": "markdown",
   "id": "abe05cda-97d0-429f-94a0-a62c6a38498c",
   "metadata": {},
   "source": [
    "To activate any conda environment, run the following command in the terminal window [ NOT ON THIS NOTEBOOK ]"
   ]
  },
  {
   "cell_type": "markdown",
   "id": "b1c86872-703e-4df2-bfd9-b04fd6186116",
   "metadata": {},
   "source": [
    "> conda activate base"
   ]
  },
  {
   "cell_type": "markdown",
   "id": "fe66e0a6",
   "metadata": {},
   "source": [
    "<div class=\"alert alert-block alert-info\"> <b>NOTE</b> After installing the dependencies on the CLI, you may get warnings mentioning some depedencies are old / outdated. For the scope of this workshop we are not going to train any model instead we will only use the existing huggingface model, hence these messasges can be ignored since the below code will work regardless of those wranings.</div>"
   ]
  },
  {
   "cell_type": "markdown",
   "id": "6666223c-c2e2-4bf3-ab9f-26a5225a767a",
   "metadata": {
    "tags": []
   },
   "source": [
    "Execute below commands on the terminal window [ NOT ON THIS NOTEBOOK ]"
   ]
  },
  {
   "cell_type": "markdown",
   "id": "55a1843b-13d7-4257-a6b6-80767467847b",
   "metadata": {},
   "source": [
    "> pip install transformers tensorflow torch torchvision pytorch_lightning sentencepiece"
   ]
  },
  {
   "cell_type": "markdown",
   "id": "dd6f5fa9-7b7f-440b-92c5-74b5fa4fe0d9",
   "metadata": {},
   "source": [
    "### Using the 🤗/mrm8488/t5-base-finetuned-wikiSQL model"
   ]
  },
  {
   "cell_type": "markdown",
   "id": "9b6a74fe-02de-40b9-8eb9-ecdb44db14ba",
   "metadata": {
    "tags": []
   },
   "source": [
    "<div class=\"alert alert-block alert-info\"> <b>NOTE</b> Run below cell on the NOTEBOOK by pressing `Crtl + ⏎` OR `⌘ + ⏎`.</div>"
   ]
  },
  {
   "cell_type": "code",
   "execution_count": null,
   "id": "bf4ae41b-1c4d-49e8-af87-f7f91f503fe0",
   "metadata": {
    "tags": []
   },
   "outputs": [],
   "source": [
    "import json\n",
    "\n",
    "# Load model directly\n",
    "from transformers import AutoTokenizer, AutoModelForSeq2SeqLM, pipeline\n",
    "\n",
    "model_name = \"mrm8488/t5-base-finetuned-wikiSQL\"\n",
    "model = AutoModelForSeq2SeqLM.from_pretrained(model_name)\n",
    "\n",
    "tokenizer = AutoTokenizer.from_pretrained(model_name)\n",
    "generator = pipeline(\"text2text-generation\", model=model, tokenizer=tokenizer, max_length=200)"
   ]
  },
  {
   "cell_type": "markdown",
   "id": "e9cf8de3-bbdb-4397-8b12-a854144af2bb",
   "metadata": {
    "tags": []
   },
   "source": [
    "<div class=\"alert alert-block alert-info\"> <b>NOTE</b> Run below cell on the NOTEBOOK by pressing `Crtl + ⏎` OR `⌘ + ⏎`.</div>"
   ]
  },
  {
   "cell_type": "code",
   "execution_count": null,
   "id": "9cc1a863-d53d-4ca2-95e9-f337e00b9356",
   "metadata": {
    "tags": []
   },
   "outputs": [],
   "source": [
    "\n",
    "def text_to_SQL(input_text):\n",
    "\n",
    "    # Prepending english to sql for the incoming prompt text\n",
    "    output = generator(\"translate English to SQL: %s </s>\" % input_text)\n",
    "\n",
    "    # Extract the first key from the output\n",
    "    json_output = json.dumps(output[0])\n",
    "\n",
    "    # Parsing the output as JSON\n",
    "    sql_query = json.loads(json_output)\n",
    "\n",
    "    # Return the generated reseponse from the model\n",
    "    return sql_query['generated_text']"
   ]
  },
  {
   "cell_type": "markdown",
   "id": "84f0a094-f4c4-4359-8746-750cefc4143f",
   "metadata": {
    "tags": []
   },
   "source": [
    "<div class=\"alert alert-block alert-info\"> <b>NOTE</b> Run below cell on the NOTEBOOK by pressing `Crtl + ⏎` OR `⌘ + ⏎`.</div>"
   ]
  },
  {
   "cell_type": "code",
   "execution_count": null,
   "id": "163ad9ed",
   "metadata": {
    "tags": []
   },
   "outputs": [],
   "source": [
    "text_to_SQL(\"What is the average age of the respondents using a mobile device?\")"
   ]
  },
  {
   "cell_type": "markdown",
   "id": "11c50f39-7418-45b8-9ce9-b26c11b8e12c",
   "metadata": {
    "tags": []
   },
   "source": [
    "### Trying out the model with few prompts to convert our text input to SQL output"
   ]
  },
  {
   "cell_type": "markdown",
   "id": "4964ade9-43ce-4a54-b43d-ea8a688f0ca0",
   "metadata": {
    "tags": []
   },
   "source": [
    "<div class=\"alert alert-block alert-info\"> <b>NOTE</b> Once the SQL is generated, you may still need to tweak the output for use with your database. <br/><br/>Especially tweaks like changing the table name, adding delimiters to the column name and the values etc..</div>"
   ]
  },
  {
   "cell_type": "markdown",
   "id": "941f0557-848e-4a10-b50a-dbdd24404274",
   "metadata": {
    "tags": []
   },
   "source": [
    "<div class=\"alert alert-block alert-warning\"> <b>NOTE</b><br/> Ensure before you run any SQL command on the MySQL client of the Cloud9 instance, please understand the table's structure for which you are running DESCRIBE command. <br/> We can get the table's structure by running DESCRIBE `tablename`; <br/><br/>Example <br/>For customers table <br/>mysql> DESCRIBE customers;<br/><br/>For employees table <br/>mysql> DESCRIBE employees;<br/><br/>Do not forget to add the ; at the end of each SQL statement.</div>"
   ]
  },
  {
   "cell_type": "markdown",
   "id": "ab79b51e-ddff-4ecd-98f6-42d319b78755",
   "metadata": {
    "tags": []
   },
   "source": [
    "### Working with our GenAI model to convert text-to-sql"
   ]
  },
  {
   "cell_type": "markdown",
   "id": "7dbc212d-eb58-47ad-b6f1-eedb22bb76d4",
   "metadata": {
    "tags": []
   },
   "source": [
    "<div class=\"alert alert-block alert-warning\"><b>NOTE</b> The quality of a model completely depends upon the quality of the dataset used while training. <br/><br/> This first model <a href='https://huggingface.co/mrm8488/t5-base-finetuned-wikiSQL' target='_blank'>mrm8488/t5-base-finetuned-wikiSQL</a> was trained on a very small dataset size of 56.4k observations named the <a href='https://huggingface.co/datasets/wikisql' target='_blank'>wikiSQL dataset</a>.</div>"
   ]
  },
  {
   "cell_type": "markdown",
   "id": "49a06524-356c-4a4b-aad0-a665581413a8",
   "metadata": {
    "tags": []
   },
   "source": [
    "### 1. Generating with keywords to retrieve the top or bottom records from a dataset"
   ]
  },
  {
   "cell_type": "markdown",
   "id": "c0f8583e-eb42-4115-9ef3-803ccdd5e11c",
   "metadata": {
    "tags": []
   },
   "source": [
    "> In SQL, the keywords to retrieve the top or bottom records from a dataset vary across different database management systems (DBMS). <br/><br/>  - Microsoft SQL Server (Transact-SQL) uses `Top` syntax.  <br/> - Oracle doesn't have a TOP keyword. You can use the ROWNUM or, in Oracle 12c and later, the FETCH FIRST clause. <br/> - MySQL / PostgresSQL / SQLlite does not have a TOP keyword. Instead, you use the LIMIT clause."
   ]
  },
  {
   "cell_type": "code",
   "execution_count": null,
   "id": "b3011f69-5090-41aa-a27d-b2bdefeea123",
   "metadata": {
    "tags": []
   },
   "outputs": [],
   "source": [
    "text_to_SQL(\"Display top 10 rows of the dataset\") # Consider using LIMIT clause while running generated SQL query on Cloud9"
   ]
  },
  {
   "cell_type": "markdown",
   "id": "2cb043fc-f556-4a08-96bb-516443aad99a",
   "metadata": {
    "tags": []
   },
   "source": [
    "### 2. Generating with conditional statements"
   ]
  },
  {
   "cell_type": "markdown",
   "id": "ebcdd254-6073-496d-b2f0-ca39443dcad6",
   "metadata": {
    "tags": []
   },
   "source": [
    "> Let's get the AI to generate simple query with the use of `WHERE` clause"
   ]
  },
  {
   "cell_type": "code",
   "execution_count": null,
   "id": "3aad0f1f-98cd-4433-a730-1e182b7c92c1",
   "metadata": {
    "tags": []
   },
   "outputs": [],
   "source": [
    "text_to_SQL(\"Get customerName, city from customers table where phone is '61-7-3844-6555'?\")"
   ]
  },
  {
   "cell_type": "markdown",
   "id": "4730217f-4aae-41af-a67a-6b4775ddbe26",
   "metadata": {
    "tags": []
   },
   "source": [
    "### 3. Generating statements to check null values in our dataset"
   ]
  },
  {
   "cell_type": "markdown",
   "id": "f82fc82d-cd38-4460-8a08-375a37e319d8",
   "metadata": {
    "tags": []
   },
   "source": [
    "> In SQL, In all these databases, you cannot use equality ( = ) or inequality ( < > or != ) operators to check for NULL values. For instance, column_name = NULL will not work as you might expect. Always use IS NULL or IS NOT NULL to check for NULL values."
   ]
  },
  {
   "cell_type": "code",
   "execution_count": null,
   "id": "e1b628c0-ae42-4932-adfb-45f28ae28c0f",
   "metadata": {
    "tags": []
   },
   "outputs": [],
   "source": [
    "text_to_SQL(\"Get customerName values from customers table where addressLine2 is NULL?\") # Consider using IS clause instead of using = when running on Cloud9"
   ]
  },
  {
   "cell_type": "markdown",
   "id": "25c9690b",
   "metadata": {},
   "source": [
    "### Generic examples for observation [ No need to execute the below output on mysql client ]"
   ]
  },
  {
   "cell_type": "code",
   "execution_count": null,
   "id": "cff6c819",
   "metadata": {},
   "outputs": [],
   "source": [
    "text_to_SQL(\"How many people have French 'fr-en' as their language?\")"
   ]
  },
  {
   "cell_type": "code",
   "execution_count": null,
   "id": "b176c6e7",
   "metadata": {},
   "outputs": [],
   "source": [
    "text_to_SQL(\"Job title contains Engineer or engineer\")"
   ]
  },
  {
   "cell_type": "code",
   "execution_count": null,
   "id": "d0114fd8",
   "metadata": {},
   "outputs": [],
   "source": [
    "text_to_SQL(\"Find the email of the person with the following IP Address: 132.207.160.22\")"
   ]
  },
  {
   "cell_type": "code",
   "execution_count": null,
   "id": "e56fc9c1",
   "metadata": {},
   "outputs": [],
   "source": [
    "text_to_SQL(\"How many people have Mastercard as their Credit Card provider and made a purchase above 50?\")"
   ]
  },
  {
   "cell_type": "code",
   "execution_count": null,
   "id": "a405d804",
   "metadata": {},
   "outputs": [],
   "source": [
    "text_to_SQL(\"Find the email of the person with the following Credit Card Number: 4664825258997302\")"
   ]
  },
  {
   "cell_type": "code",
   "execution_count": null,
   "id": "e8417483",
   "metadata": {},
   "outputs": [],
   "source": [
    "text_to_SQL(\"How many people have Credit Card which expires in 2024?\")"
   ]
  },
  {
   "cell_type": "markdown",
   "id": "ac660dc1-6b1a-4c59-a455-cc7e0bb8c867",
   "metadata": {
    "tags": []
   },
   "source": [
    "### With a hang of how Gen AI output needs tweaking for most of the outputs, let's observe outputs for below text queries [ Try tweaking and executing on mysql client ]"
   ]
  },
  {
   "cell_type": "markdown",
   "id": "8b7aef31-5319-4d34-af9d-2e4a66865050",
   "metadata": {},
   "source": [
    "<div class=\"alert alert-block alert-warning\">Use below prompts and use the `text_to_SQL` function placeholder to generate SQL statements.</div>"
   ]
  },
  {
   "cell_type": "markdown",
   "id": "b332c9b7-3841-4bfb-8807-c5d9a2549133",
   "metadata": {},
   "source": [
    "> Always run DESCRIBE `tablename`; so that you can understand the table structure to know the column names.\n",
    "\n",
    "1. Find the maximum amount on the payments table\n",
    "2. Find the miminum amount on the payments table\n",
    "3. Find the average amount on the payments table\n",
    "4. Find the customerName who has made the highest payment on the pyaments table\n",
    "5. Find the number of employees who has a job title as 'Sales Rep' from the employees table\n",
    "6. Get the firstName and lastName of employees who reports to 1056 \n",
    "7. How many orders have been shipped status"
   ]
  },
  {
   "cell_type": "code",
   "execution_count": null,
   "id": "7b57ef94-eee1-44e2-a2a6-1c3ebbde4e1a",
   "metadata": {},
   "outputs": [],
   "source": [
    "# text_to_SQL function placeholder\n",
    "# Copy the prompts from above and paste it here and use this cell to execute\n",
    "\n",
    "text_to_SQL(\"\")"
   ]
  }
 ],
 "metadata": {
  "availableInstances": [
   {
    "_defaultOrder": 0,
    "_isFastLaunch": true,
    "category": "General purpose",
    "gpuNum": 0,
    "hideHardwareSpecs": false,
    "memoryGiB": 4,
    "name": "ml.t3.medium",
    "vcpuNum": 2
   },
   {
    "_defaultOrder": 1,
    "_isFastLaunch": false,
    "category": "General purpose",
    "gpuNum": 0,
    "hideHardwareSpecs": false,
    "memoryGiB": 8,
    "name": "ml.t3.large",
    "vcpuNum": 2
   },
   {
    "_defaultOrder": 2,
    "_isFastLaunch": false,
    "category": "General purpose",
    "gpuNum": 0,
    "hideHardwareSpecs": false,
    "memoryGiB": 16,
    "name": "ml.t3.xlarge",
    "vcpuNum": 4
   },
   {
    "_defaultOrder": 3,
    "_isFastLaunch": false,
    "category": "General purpose",
    "gpuNum": 0,
    "hideHardwareSpecs": false,
    "memoryGiB": 32,
    "name": "ml.t3.2xlarge",
    "vcpuNum": 8
   },
   {
    "_defaultOrder": 4,
    "_isFastLaunch": true,
    "category": "General purpose",
    "gpuNum": 0,
    "hideHardwareSpecs": false,
    "memoryGiB": 8,
    "name": "ml.m5.large",
    "vcpuNum": 2
   },
   {
    "_defaultOrder": 5,
    "_isFastLaunch": false,
    "category": "General purpose",
    "gpuNum": 0,
    "hideHardwareSpecs": false,
    "memoryGiB": 16,
    "name": "ml.m5.xlarge",
    "vcpuNum": 4
   },
   {
    "_defaultOrder": 6,
    "_isFastLaunch": false,
    "category": "General purpose",
    "gpuNum": 0,
    "hideHardwareSpecs": false,
    "memoryGiB": 32,
    "name": "ml.m5.2xlarge",
    "vcpuNum": 8
   },
   {
    "_defaultOrder": 7,
    "_isFastLaunch": false,
    "category": "General purpose",
    "gpuNum": 0,
    "hideHardwareSpecs": false,
    "memoryGiB": 64,
    "name": "ml.m5.4xlarge",
    "vcpuNum": 16
   },
   {
    "_defaultOrder": 8,
    "_isFastLaunch": false,
    "category": "General purpose",
    "gpuNum": 0,
    "hideHardwareSpecs": false,
    "memoryGiB": 128,
    "name": "ml.m5.8xlarge",
    "vcpuNum": 32
   },
   {
    "_defaultOrder": 9,
    "_isFastLaunch": false,
    "category": "General purpose",
    "gpuNum": 0,
    "hideHardwareSpecs": false,
    "memoryGiB": 192,
    "name": "ml.m5.12xlarge",
    "vcpuNum": 48
   },
   {
    "_defaultOrder": 10,
    "_isFastLaunch": false,
    "category": "General purpose",
    "gpuNum": 0,
    "hideHardwareSpecs": false,
    "memoryGiB": 256,
    "name": "ml.m5.16xlarge",
    "vcpuNum": 64
   },
   {
    "_defaultOrder": 11,
    "_isFastLaunch": false,
    "category": "General purpose",
    "gpuNum": 0,
    "hideHardwareSpecs": false,
    "memoryGiB": 384,
    "name": "ml.m5.24xlarge",
    "vcpuNum": 96
   },
   {
    "_defaultOrder": 12,
    "_isFastLaunch": false,
    "category": "General purpose",
    "gpuNum": 0,
    "hideHardwareSpecs": false,
    "memoryGiB": 8,
    "name": "ml.m5d.large",
    "vcpuNum": 2
   },
   {
    "_defaultOrder": 13,
    "_isFastLaunch": false,
    "category": "General purpose",
    "gpuNum": 0,
    "hideHardwareSpecs": false,
    "memoryGiB": 16,
    "name": "ml.m5d.xlarge",
    "vcpuNum": 4
   },
   {
    "_defaultOrder": 14,
    "_isFastLaunch": false,
    "category": "General purpose",
    "gpuNum": 0,
    "hideHardwareSpecs": false,
    "memoryGiB": 32,
    "name": "ml.m5d.2xlarge",
    "vcpuNum": 8
   },
   {
    "_defaultOrder": 15,
    "_isFastLaunch": false,
    "category": "General purpose",
    "gpuNum": 0,
    "hideHardwareSpecs": false,
    "memoryGiB": 64,
    "name": "ml.m5d.4xlarge",
    "vcpuNum": 16
   },
   {
    "_defaultOrder": 16,
    "_isFastLaunch": false,
    "category": "General purpose",
    "gpuNum": 0,
    "hideHardwareSpecs": false,
    "memoryGiB": 128,
    "name": "ml.m5d.8xlarge",
    "vcpuNum": 32
   },
   {
    "_defaultOrder": 17,
    "_isFastLaunch": false,
    "category": "General purpose",
    "gpuNum": 0,
    "hideHardwareSpecs": false,
    "memoryGiB": 192,
    "name": "ml.m5d.12xlarge",
    "vcpuNum": 48
   },
   {
    "_defaultOrder": 18,
    "_isFastLaunch": false,
    "category": "General purpose",
    "gpuNum": 0,
    "hideHardwareSpecs": false,
    "memoryGiB": 256,
    "name": "ml.m5d.16xlarge",
    "vcpuNum": 64
   },
   {
    "_defaultOrder": 19,
    "_isFastLaunch": false,
    "category": "General purpose",
    "gpuNum": 0,
    "hideHardwareSpecs": false,
    "memoryGiB": 384,
    "name": "ml.m5d.24xlarge",
    "vcpuNum": 96
   },
   {
    "_defaultOrder": 20,
    "_isFastLaunch": false,
    "category": "General purpose",
    "gpuNum": 0,
    "hideHardwareSpecs": true,
    "memoryGiB": 0,
    "name": "ml.geospatial.interactive",
    "supportedImageNames": [
     "sagemaker-geospatial-v1-0"
    ],
    "vcpuNum": 0
   },
   {
    "_defaultOrder": 21,
    "_isFastLaunch": true,
    "category": "Compute optimized",
    "gpuNum": 0,
    "hideHardwareSpecs": false,
    "memoryGiB": 4,
    "name": "ml.c5.large",
    "vcpuNum": 2
   },
   {
    "_defaultOrder": 22,
    "_isFastLaunch": false,
    "category": "Compute optimized",
    "gpuNum": 0,
    "hideHardwareSpecs": false,
    "memoryGiB": 8,
    "name": "ml.c5.xlarge",
    "vcpuNum": 4
   },
   {
    "_defaultOrder": 23,
    "_isFastLaunch": false,
    "category": "Compute optimized",
    "gpuNum": 0,
    "hideHardwareSpecs": false,
    "memoryGiB": 16,
    "name": "ml.c5.2xlarge",
    "vcpuNum": 8
   },
   {
    "_defaultOrder": 24,
    "_isFastLaunch": false,
    "category": "Compute optimized",
    "gpuNum": 0,
    "hideHardwareSpecs": false,
    "memoryGiB": 32,
    "name": "ml.c5.4xlarge",
    "vcpuNum": 16
   },
   {
    "_defaultOrder": 25,
    "_isFastLaunch": false,
    "category": "Compute optimized",
    "gpuNum": 0,
    "hideHardwareSpecs": false,
    "memoryGiB": 72,
    "name": "ml.c5.9xlarge",
    "vcpuNum": 36
   },
   {
    "_defaultOrder": 26,
    "_isFastLaunch": false,
    "category": "Compute optimized",
    "gpuNum": 0,
    "hideHardwareSpecs": false,
    "memoryGiB": 96,
    "name": "ml.c5.12xlarge",
    "vcpuNum": 48
   },
   {
    "_defaultOrder": 27,
    "_isFastLaunch": false,
    "category": "Compute optimized",
    "gpuNum": 0,
    "hideHardwareSpecs": false,
    "memoryGiB": 144,
    "name": "ml.c5.18xlarge",
    "vcpuNum": 72
   },
   {
    "_defaultOrder": 28,
    "_isFastLaunch": false,
    "category": "Compute optimized",
    "gpuNum": 0,
    "hideHardwareSpecs": false,
    "memoryGiB": 192,
    "name": "ml.c5.24xlarge",
    "vcpuNum": 96
   },
   {
    "_defaultOrder": 29,
    "_isFastLaunch": true,
    "category": "Accelerated computing",
    "gpuNum": 1,
    "hideHardwareSpecs": false,
    "memoryGiB": 16,
    "name": "ml.g4dn.xlarge",
    "vcpuNum": 4
   },
   {
    "_defaultOrder": 30,
    "_isFastLaunch": false,
    "category": "Accelerated computing",
    "gpuNum": 1,
    "hideHardwareSpecs": false,
    "memoryGiB": 32,
    "name": "ml.g4dn.2xlarge",
    "vcpuNum": 8
   },
   {
    "_defaultOrder": 31,
    "_isFastLaunch": false,
    "category": "Accelerated computing",
    "gpuNum": 1,
    "hideHardwareSpecs": false,
    "memoryGiB": 64,
    "name": "ml.g4dn.4xlarge",
    "vcpuNum": 16
   },
   {
    "_defaultOrder": 32,
    "_isFastLaunch": false,
    "category": "Accelerated computing",
    "gpuNum": 1,
    "hideHardwareSpecs": false,
    "memoryGiB": 128,
    "name": "ml.g4dn.8xlarge",
    "vcpuNum": 32
   },
   {
    "_defaultOrder": 33,
    "_isFastLaunch": false,
    "category": "Accelerated computing",
    "gpuNum": 4,
    "hideHardwareSpecs": false,
    "memoryGiB": 192,
    "name": "ml.g4dn.12xlarge",
    "vcpuNum": 48
   },
   {
    "_defaultOrder": 34,
    "_isFastLaunch": false,
    "category": "Accelerated computing",
    "gpuNum": 1,
    "hideHardwareSpecs": false,
    "memoryGiB": 256,
    "name": "ml.g4dn.16xlarge",
    "vcpuNum": 64
   },
   {
    "_defaultOrder": 35,
    "_isFastLaunch": false,
    "category": "Accelerated computing",
    "gpuNum": 1,
    "hideHardwareSpecs": false,
    "memoryGiB": 61,
    "name": "ml.p3.2xlarge",
    "vcpuNum": 8
   },
   {
    "_defaultOrder": 36,
    "_isFastLaunch": false,
    "category": "Accelerated computing",
    "gpuNum": 4,
    "hideHardwareSpecs": false,
    "memoryGiB": 244,
    "name": "ml.p3.8xlarge",
    "vcpuNum": 32
   },
   {
    "_defaultOrder": 37,
    "_isFastLaunch": false,
    "category": "Accelerated computing",
    "gpuNum": 8,
    "hideHardwareSpecs": false,
    "memoryGiB": 488,
    "name": "ml.p3.16xlarge",
    "vcpuNum": 64
   },
   {
    "_defaultOrder": 38,
    "_isFastLaunch": false,
    "category": "Accelerated computing",
    "gpuNum": 8,
    "hideHardwareSpecs": false,
    "memoryGiB": 768,
    "name": "ml.p3dn.24xlarge",
    "vcpuNum": 96
   },
   {
    "_defaultOrder": 39,
    "_isFastLaunch": false,
    "category": "Memory Optimized",
    "gpuNum": 0,
    "hideHardwareSpecs": false,
    "memoryGiB": 16,
    "name": "ml.r5.large",
    "vcpuNum": 2
   },
   {
    "_defaultOrder": 40,
    "_isFastLaunch": false,
    "category": "Memory Optimized",
    "gpuNum": 0,
    "hideHardwareSpecs": false,
    "memoryGiB": 32,
    "name": "ml.r5.xlarge",
    "vcpuNum": 4
   },
   {
    "_defaultOrder": 41,
    "_isFastLaunch": false,
    "category": "Memory Optimized",
    "gpuNum": 0,
    "hideHardwareSpecs": false,
    "memoryGiB": 64,
    "name": "ml.r5.2xlarge",
    "vcpuNum": 8
   },
   {
    "_defaultOrder": 42,
    "_isFastLaunch": false,
    "category": "Memory Optimized",
    "gpuNum": 0,
    "hideHardwareSpecs": false,
    "memoryGiB": 128,
    "name": "ml.r5.4xlarge",
    "vcpuNum": 16
   },
   {
    "_defaultOrder": 43,
    "_isFastLaunch": false,
    "category": "Memory Optimized",
    "gpuNum": 0,
    "hideHardwareSpecs": false,
    "memoryGiB": 256,
    "name": "ml.r5.8xlarge",
    "vcpuNum": 32
   },
   {
    "_defaultOrder": 44,
    "_isFastLaunch": false,
    "category": "Memory Optimized",
    "gpuNum": 0,
    "hideHardwareSpecs": false,
    "memoryGiB": 384,
    "name": "ml.r5.12xlarge",
    "vcpuNum": 48
   },
   {
    "_defaultOrder": 45,
    "_isFastLaunch": false,
    "category": "Memory Optimized",
    "gpuNum": 0,
    "hideHardwareSpecs": false,
    "memoryGiB": 512,
    "name": "ml.r5.16xlarge",
    "vcpuNum": 64
   },
   {
    "_defaultOrder": 46,
    "_isFastLaunch": false,
    "category": "Memory Optimized",
    "gpuNum": 0,
    "hideHardwareSpecs": false,
    "memoryGiB": 768,
    "name": "ml.r5.24xlarge",
    "vcpuNum": 96
   },
   {
    "_defaultOrder": 47,
    "_isFastLaunch": false,
    "category": "Accelerated computing",
    "gpuNum": 1,
    "hideHardwareSpecs": false,
    "memoryGiB": 16,
    "name": "ml.g5.xlarge",
    "vcpuNum": 4
   },
   {
    "_defaultOrder": 48,
    "_isFastLaunch": false,
    "category": "Accelerated computing",
    "gpuNum": 1,
    "hideHardwareSpecs": false,
    "memoryGiB": 32,
    "name": "ml.g5.2xlarge",
    "vcpuNum": 8
   },
   {
    "_defaultOrder": 49,
    "_isFastLaunch": false,
    "category": "Accelerated computing",
    "gpuNum": 1,
    "hideHardwareSpecs": false,
    "memoryGiB": 64,
    "name": "ml.g5.4xlarge",
    "vcpuNum": 16
   },
   {
    "_defaultOrder": 50,
    "_isFastLaunch": false,
    "category": "Accelerated computing",
    "gpuNum": 1,
    "hideHardwareSpecs": false,
    "memoryGiB": 128,
    "name": "ml.g5.8xlarge",
    "vcpuNum": 32
   },
   {
    "_defaultOrder": 51,
    "_isFastLaunch": false,
    "category": "Accelerated computing",
    "gpuNum": 1,
    "hideHardwareSpecs": false,
    "memoryGiB": 256,
    "name": "ml.g5.16xlarge",
    "vcpuNum": 64
   },
   {
    "_defaultOrder": 52,
    "_isFastLaunch": false,
    "category": "Accelerated computing",
    "gpuNum": 4,
    "hideHardwareSpecs": false,
    "memoryGiB": 192,
    "name": "ml.g5.12xlarge",
    "vcpuNum": 48
   },
   {
    "_defaultOrder": 53,
    "_isFastLaunch": false,
    "category": "Accelerated computing",
    "gpuNum": 4,
    "hideHardwareSpecs": false,
    "memoryGiB": 384,
    "name": "ml.g5.24xlarge",
    "vcpuNum": 96
   },
   {
    "_defaultOrder": 54,
    "_isFastLaunch": false,
    "category": "Accelerated computing",
    "gpuNum": 8,
    "hideHardwareSpecs": false,
    "memoryGiB": 768,
    "name": "ml.g5.48xlarge",
    "vcpuNum": 192
   },
   {
    "_defaultOrder": 55,
    "_isFastLaunch": false,
    "category": "Accelerated computing",
    "gpuNum": 8,
    "hideHardwareSpecs": false,
    "memoryGiB": 1152,
    "name": "ml.p4d.24xlarge",
    "vcpuNum": 96
   },
   {
    "_defaultOrder": 56,
    "_isFastLaunch": false,
    "category": "Accelerated computing",
    "gpuNum": 8,
    "hideHardwareSpecs": false,
    "memoryGiB": 1152,
    "name": "ml.p4de.24xlarge",
    "vcpuNum": 96
   }
  ],
  "instance_type": "ml.m5.large",
  "kernelspec": {
   "display_name": "Python 3 (ipykernel)",
   "language": "python",
   "name": "python3"
  },
  "language_info": {
   "codemirror_mode": {
    "name": "ipython",
    "version": 3
   },
   "file_extension": ".py",
   "mimetype": "text/x-python",
   "name": "python",
   "nbconvert_exporter": "python",
   "pygments_lexer": "ipython3",
   "version": "3.11.4"
  }
 },
 "nbformat": 4,
 "nbformat_minor": 5
}
